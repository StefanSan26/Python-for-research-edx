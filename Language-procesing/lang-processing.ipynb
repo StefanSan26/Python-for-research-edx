{
 "cells": [
  {
   "cell_type": "markdown",
   "metadata": {},
   "source": [
    "# WORD COUNTING"
   ]
  },
  {
   "cell_type": "code",
   "execution_count": 2,
   "metadata": {},
   "outputs": [],
   "source": [
    "text=\"Theseus, Now faire'v Hippolit,a our nuptiall houre Drawes on apace foure happy daies bring in Another Moon but oh me thinkes how slow This old Moon wanes She lingers my desires Like to a Stepdame or a Dowager Long withering out a yong mans reuennew\"\n",
    "\n",
    "def count_words(text):\n",
    "\t\"\"\"\n",
    "\tCount the number of times each word occurs in text (str). Return dictionary whre keys are unique words and values are word counts\n",
    "\t\"\"\"\n",
    "\ttext = text.lower()\n",
    "\tskips = [\".\",\",\",\";\",\":\",\"'\",'\"']\n",
    "\tfor ch in skips:\n",
    "\t\ttext = text.replace(ch,\"\")\n",
    "\tword_counts = {}\n",
    "\tfor word in text.split(\" \"):\n",
    "\t\t#known word\n",
    "\t\tif word in word_counts:\n",
    "\t\t\tword_counts[word]+=1\n",
    "\t\t#unknown word\n",
    "\t\telse:\n",
    "\t\t\tword_counts[word]=1\n",
    "\treturn word_counts"
   ]
  },
  {
   "cell_type": "code",
   "execution_count": 3,
   "metadata": {},
   "outputs": [
    {
     "data": {
      "text/plain": [
       "6"
      ]
     },
     "execution_count": 3,
     "metadata": {},
     "output_type": "execute_result"
    }
   ],
   "source": [
    "len(count_words(\"This comprehension check is to check for comprehension.\"))"
   ]
  },
  {
   "cell_type": "code",
   "execution_count": 4,
   "metadata": {},
   "outputs": [
    {
     "data": {
      "text/plain": [
       "Counter({'theseus': 1,\n",
       "         'now': 1,\n",
       "         'fairev': 1,\n",
       "         'hippolita': 1,\n",
       "         'our': 1,\n",
       "         'nuptiall': 1,\n",
       "         'houre': 1,\n",
       "         'drawes': 1,\n",
       "         'on': 1,\n",
       "         'apace': 1,\n",
       "         'foure': 1,\n",
       "         'happy': 1,\n",
       "         'daies': 1,\n",
       "         'bring': 1,\n",
       "         'in': 1,\n",
       "         'another': 1,\n",
       "         'moon': 2,\n",
       "         'but': 1,\n",
       "         'oh': 1,\n",
       "         'me': 1,\n",
       "         'thinkes': 1,\n",
       "         'how': 1,\n",
       "         'slow': 1,\n",
       "         'this': 1,\n",
       "         'old': 1,\n",
       "         'wanes': 1,\n",
       "         'she': 1,\n",
       "         'lingers': 1,\n",
       "         'my': 1,\n",
       "         'desires': 1,\n",
       "         'like': 1,\n",
       "         'to': 1,\n",
       "         'a': 3,\n",
       "         'stepdame': 1,\n",
       "         'or': 1,\n",
       "         'dowager': 1,\n",
       "         'long': 1,\n",
       "         'withering': 1,\n",
       "         'out': 1,\n",
       "         'yong': 1,\n",
       "         'mans': 1,\n",
       "         'reuennew': 1})"
      ]
     },
     "execution_count": 4,
     "metadata": {},
     "output_type": "execute_result"
    }
   ],
   "source": [
    "from collections import Counter\n",
    "def count_words_fast(text):\n",
    "\t\"\"\"\n",
    "\tCount the number of times each word occurs in text (str). Return dictionary whre keys are unique words and values are word counts\n",
    "\t\"\"\"\n",
    "\ttext = text.lower()\n",
    "\tskips = [\".\",\",\",\";\",\":\",\"'\",'\"']\n",
    "\tfor ch in skips:\n",
    "\t\ttext = text.replace(ch,\"\")\n",
    "\tword_counts = Counter(text.split(\" \"))\n",
    "\treturn word_counts\n",
    "\n",
    "count_words_fast(text)\n"
   ]
  },
  {
   "cell_type": "code",
   "execution_count": 5,
   "metadata": {},
   "outputs": [
    {
     "data": {
      "text/plain": [
       "False"
      ]
     },
     "execution_count": 5,
     "metadata": {},
     "output_type": "execute_result"
    }
   ],
   "source": [
    "count_words(text) is count_words_fast(text)"
   ]
  },
  {
   "cell_type": "markdown",
   "metadata": {},
   "source": [
    "# Reading a Book"
   ]
  },
  {
   "cell_type": "code",
   "execution_count": 6,
   "metadata": {},
   "outputs": [],
   "source": [
    "def read_book(title_path):\n",
    "\t\"\"\"Read a book and return it as a string\"\"\"\n",
    "\twith open(title_path, \"r\",encoding=\"utf8\") as current_file:\n",
    "\t\ttext= current_file.read()\n",
    "\t\ttext = text.replace(\"\\n\",\"\").replace(\"\\r\",\"\")\n",
    "\treturn text"
   ]
  },
  {
   "cell_type": "code",
   "execution_count": 8,
   "metadata": {},
   "outputs": [],
   "source": [
    "text = read_book(\"Books_EngFr/English/shakespeare/Romeo and Juliet.txt\")"
   ]
  },
  {
   "cell_type": "code",
   "execution_count": 9,
   "metadata": {},
   "outputs": [
    {
     "data": {
      "text/plain": [
       "169275"
      ]
     },
     "execution_count": 9,
     "metadata": {},
     "output_type": "execute_result"
    }
   ],
   "source": [
    "len(text)\n"
   ]
  },
  {
   "cell_type": "code",
   "execution_count": 12,
   "metadata": {},
   "outputs": [
    {
     "data": {
      "text/plain": [
       "\"What's in a name? That which we call a rose    By any other name would smell as sweet.    So Romeo w\""
      ]
     },
     "execution_count": 12,
     "metadata": {},
     "output_type": "execute_result"
    }
   ],
   "source": [
    "ind = text.find(\"What's in a name?\")\n",
    "sample_text = text[ind: ind +100]\n",
    "sample_text"
   ]
  },
  {
   "cell_type": "markdown",
   "metadata": {},
   "source": [
    "## Computing word Frequency Statistics"
   ]
  },
  {
   "cell_type": "code",
   "execution_count": 13,
   "metadata": {},
   "outputs": [],
   "source": [
    "def word_stats(word_counts):\n",
    "\t\"\"\"\"Return number of unique words and word frequencies\"\"\"\n",
    "\tnum_unique =len(word_counts)\n",
    "\tcounts = word_counts.values()\n",
    "\treturn(num_unique,counts)\n",
    "\t"
   ]
  },
  {
   "cell_type": "code",
   "execution_count": 14,
   "metadata": {},
   "outputs": [],
   "source": [
    "word_counts= count_words(text)\n",
    "\n",
    "(num_unique,counts) = word_stats(word_counts)"
   ]
  },
  {
   "cell_type": "code",
   "execution_count": 15,
   "metadata": {},
   "outputs": [
    {
     "data": {
      "text/plain": [
       "5118"
      ]
     },
     "execution_count": 15,
     "metadata": {},
     "output_type": "execute_result"
    }
   ],
   "source": [
    "num_unique\n"
   ]
  },
  {
   "cell_type": "code",
   "execution_count": 17,
   "metadata": {},
   "outputs": [
    {
     "data": {
      "text/plain": [
       "40776"
      ]
     },
     "execution_count": 17,
     "metadata": {},
     "output_type": "execute_result"
    }
   ],
   "source": [
    "sum(counts)"
   ]
  },
  {
   "cell_type": "code",
   "execution_count": 19,
   "metadata": {},
   "outputs": [
    {
     "name": "stdout",
     "output_type": "stream",
     "text": [
      "5118 40776\n",
      "7527 20311\n"
     ]
    }
   ],
   "source": [
    "text = read_book(\"Books_EngFr/English/shakespeare/Romeo and Juliet.txt\")\n",
    "word_counts= count_words(text)\n",
    "(num_unique,counts) = word_stats(word_counts)\n",
    "print(num_unique,sum(counts))\n",
    "\n",
    "\n",
    "text_german = read_book(\"Books_GerPort/German/shakespeare/Romeo und Julia.txt\")\n",
    "word_counts_german= count_words(text_german)\n",
    "(num_unique_german,counts_german) = word_stats(word_counts_german)\n",
    "print(num_unique_german,sum(counts_german))\n"
   ]
  },
  {
   "cell_type": "markdown",
   "metadata": {},
   "source": [
    "## Reading Multiple files"
   ]
  },
  {
   "cell_type": "code",
   "execution_count": 33,
   "metadata": {},
   "outputs": [
    {
     "data": {
      "text/html": [
       "<div>\n",
       "<style scoped>\n",
       "    .dataframe tbody tr th:only-of-type {\n",
       "        vertical-align: middle;\n",
       "    }\n",
       "\n",
       "    .dataframe tbody tr th {\n",
       "        vertical-align: top;\n",
       "    }\n",
       "\n",
       "    .dataframe thead th {\n",
       "        text-align: right;\n",
       "    }\n",
       "</style>\n",
       "<table border=\"1\" class=\"dataframe\">\n",
       "  <thead>\n",
       "    <tr style=\"text-align: right;\">\n",
       "      <th></th>\n",
       "      <th>name</th>\n",
       "      <th>age</th>\n",
       "    </tr>\n",
       "  </thead>\n",
       "  <tbody>\n",
       "    <tr>\n",
       "      <th>1</th>\n",
       "      <td>James</td>\n",
       "      <td>22</td>\n",
       "    </tr>\n",
       "    <tr>\n",
       "      <th>2</th>\n",
       "      <td>Jess</td>\n",
       "      <td>32</td>\n",
       "    </tr>\n",
       "  </tbody>\n",
       "</table>\n",
       "</div>"
      ],
      "text/plain": [
       "    name  age\n",
       "1  James   22\n",
       "2   Jess   32"
      ]
     },
     "execution_count": 33,
     "metadata": {},
     "output_type": "execute_result"
    }
   ],
   "source": [
    "import pandas as pd\n",
    "table = pd.DataFrame(columns = (\"name\",\"age\"))\n",
    "table.loc[1] = \"James\",22\n",
    "table.loc[2] = \"Jess\",32\n",
    "table"
   ]
  },
  {
   "cell_type": "code",
   "execution_count": 37,
   "metadata": {},
   "outputs": [
    {
     "name": "stdout",
     "output_type": "stream",
     "text": [
      "./books/French/de Maupassant/Œuvres complètes de Guy de Maupassant.txt\n",
      "./books/French/de Maupassant/Contes de la Becasse.txt\n",
      "./books/French/de Maupassant/L'inutile beautÇ.txt\n",
      "./books/French/de Maupassant/La Main Gauche.txt\n",
      "./books/French/de Maupassant/Claire de Lune.txt\n",
      "./books/French/de Maupassant/Le Horla.txt\n",
      "./books/French/de Maupassant/Boule de Suif.txt\n",
      "./books/French/de Maupassant/La Maison Tellier.txt\n",
      "./books/French/de Maupassant/La petite roque.txt\n",
      "./books/French/sand/Mattea.txt\n",
      "./books/French/sand/Oeuvres illustrÇes de George Sand.txt\n",
      "./books/French/sand/cora.txt\n",
      "./books/French/sand/L' Orco.txt\n",
      "./books/French/sand/Le poâme de Myrza.txt\n",
      "./books/French/sand/La Coupe; Lupo Liverani; Le Toast; Garnier; Le Contrebandier; La Ràverie Ö Paris.txt\n",
      "./books/French/sand/Metella.txt\n",
      "./books/French/sand/La Marquise.txt\n",
      "./books/French/sand/Jacques le fataliste et son maåtre.txt\n",
      "./books/French/sand/Le Piccinino.txt\n",
      "./books/French/sand/Pauline.txt\n",
      "./books/French/chevalier/Les derniers Iroquois.txt\n",
      "./books/French/chevalier/La fille des indiens rouges.txt\n",
      "./books/French/chevalier/Le chasseur noir.txt\n",
      "./books/French/chevalier/L'åle de sable.txt\n",
      "./books/French/chevalier/La fille du pirate.txt\n",
      "./books/French/chevalier/La capitaine.txt\n",
      "./books/French/chevalier/L'enfer et le paradis de l'autre monde.txt\n",
      "./books/French/diderot/Ceci n'est pas un conte.txt\n",
      "./books/French/diderot/L'oiseau blanc.txt\n",
      "./books/French/diderot/Les deux amis de Bourbonne.txt\n",
      "./books/French/diderot/Regrets sur ma vieille robe de chambre.txt\n",
      "./books/French/diderot/Entretien d'un päre avec ses enfants.txt\n",
      "./books/Portuguese/shakespeare/Hamlet.txt\n",
      "./books/Portuguese/branco/O Regicida.txt\n",
      "./books/Portuguese/branco/A Neta do Arcediago.txt\n",
      "./books/Portuguese/branco/Estrellas Prop°cias.txt\n",
      "./books/Portuguese/branco/Scenas Contemporaneas.txt\n",
      "./books/Portuguese/branco/O que fazem mulheres.txt\n",
      "./books/Portuguese/branco/O Olho de Vidro.txt\n",
      "./books/Portuguese/branco/Agulha em Palheiro.txt\n",
      "./books/Portuguese/branco/Estrellas Funestas.txt\n",
      "./books/Portuguese/branco/Amor de Salvação.txt\n",
      "./books/Portuguese/branco/Livro de Consolação.txt\n",
      "./books/Portuguese/branco/A Filha do Arcediago.txt\n",
      "./books/Portuguese/branco/A Queda d'um Anjo.txt\n",
      "./books/Portuguese/branco/Annos de Prosa.txt\n",
      "./books/Portuguese/branco/Carlota Angela.txt\n",
      "./books/Portuguese/branco/Amor de Perdição.txt\n",
      "./books/Portuguese/branco/Lagrimas Abenáoadas.txt\n",
      "./books/Portuguese/dinis/Uma fam°lia ingleza.txt\n",
      "./books/Portuguese/dinis/Os fidalgos da Casa Mourisca.txt\n",
      "./books/Portuguese/dinis/A Morgadinha dos Cannaviaes.txt\n",
      "./books/Portuguese/Queir¢s/O crime do padre Amaro.txt\n",
      "./books/Portuguese/Queir¢s/A Illustre Casa de Ramires.txt\n",
      "./books/Portuguese/Queir¢s/Os Maias.txt\n",
      "./books/Portuguese/Queir¢s/O Primo Bazilio.txt\n",
      "./books/Portuguese/Queir¢s/O Mandarim.txt\n",
      "./books/Portuguese/Queir¢s/A Cidade e as Serras.txt\n",
      "./books/Portuguese/Queir¢s/A correspondància de Fradique Mendes.txt\n",
      "./books/Portuguese/Queir¢s/Cartas de Inglaterra.txt\n",
      "./books/Portuguese/Queir¢s/A Rel°quia.txt\n",
      "./books/English/shakespeare/Othello.txt\n",
      "./books/English/shakespeare/Hamlet.txt\n",
      "./books/English/shakespeare/The Merchant of Venice.txt\n",
      "./books/English/shakespeare/Romeo and Juliet.txt\n",
      "./books/English/shakespeare/Richard III.txt\n",
      "./books/English/shakespeare/Macbeth.txt\n",
      "./books/English/shakespeare/A Midsummer Night's Dream.txt\n",
      "./books/German/shakespeare/Der Kaufmann von Venedig.txt\n",
      "./books/German/shakespeare/Ein Sommernachtstraum.txt\n",
      "./books/German/shakespeare/Othello.txt\n",
      "./books/German/shakespeare/Hamlet.txt\n",
      "./books/German/shakespeare/Romeo und Julia.txt\n",
      "./books/German/shakespeare/Richard III.txt\n",
      "./books/German/shakespeare/Macbeth.txt\n",
      "./books/German/raimund/Die unheilbringende Krone.txt\n",
      "./books/German/raimund/Moisasurs Zauberfluch.txt\n",
      "./books/German/raimund/Die gefesselte Phantasie.txt\n",
      "./books/German/raimund/Das MÑdchen aus der Feenwelt.txt\n",
      "./books/German/raimund/Der Verschwender.txt\n",
      "./books/German/raimund/Der Barometermacher auf der Zauberinsel.txt\n",
      "./books/German/raimund/Der Diamant des Geisterkînigs.txt\n",
      "./books/German/raimund/Der Alpenkînig und der Menschenfeind.txt\n",
      "./books/German/lessing/philotas.txt\n",
      "./books/German/lessing/die juden.txt\n",
      "./books/German/lessing/der junge gelehrte.txt\n",
      "./books/German/lessing/miss sara sampson.txt\n",
      "./books/German/lessing/der freigeist.txt\n",
      "./books/German/lessing/minna von barnhelm.txt\n",
      "./books/German/lessing/hamburgische dramaturgie.txt\n",
      "./books/German/lessing/emilia galotti.txt\n",
      "./books/German/schiller/die braut von messina.txt\n",
      "./books/German/schiller/Wallensteins Tod.txt\n",
      "./books/German/schiller/Die Huldigung der KÅnste.txt\n",
      "./books/German/schiller/Kabale und Liebe.txt\n",
      "./books/German/schiller/Die Piccolomini.txt\n",
      "./books/German/schiller/Der Neffe als Onkel.txt\n",
      "./books/German/schiller/Wallensteins Lager.txt\n",
      "./books/German/schiller/Die Jungfrau von Orleans.txt\n",
      "./books/German/schiller/Die Verschwîrung des Fiesco zu Genua.txt\n",
      "./books/German/schiller/Der Parasit, oder die Kunst, sein GlÅck zu machen.txt\n",
      "./books/German/schiller/Turandot, Prinzessin von China.txt\n"
     ]
    }
   ],
   "source": [
    "import os\n",
    "book_dir = \"./books\"\n",
    "import pandas as pd\n",
    "stats  = pd.DataFrame(columns=(\"Language\", \"Author\", \"Title\", \"Lenght\", \"Unique\"))\n",
    "title_num  = 1\n",
    "os.listdir(book_dir)\n",
    "for language in os.listdir(book_dir):\n",
    "\tfor author in os.listdir(book_dir + \"/\" + language):\n",
    "\t\tfor title in os.listdir(book_dir + \"/\" + language + \"/\" + author):\n",
    "\t\t\tinputfile = book_dir + \"/\" + language + \"/\" + author + \"/\" + title\n",
    "\t\t\tprint(inputfile)\n",
    "\t\t\ttext = read_book(inputfile)\n",
    "\t\t\t(num_unique,counts) =word_stats(count_words(text))\n",
    "\t\t\tstats.loc[title_num] = language, author.capitalize(), title.replace(\".txt\",\"\"), sum(counts), num_unique\n",
    "\t\t\ttitle_num+=1"
   ]
  },
  {
   "cell_type": "code",
   "execution_count": 38,
   "metadata": {},
   "outputs": [
    {
     "data": {
      "text/html": [
       "<div>\n",
       "<style scoped>\n",
       "    .dataframe tbody tr th:only-of-type {\n",
       "        vertical-align: middle;\n",
       "    }\n",
       "\n",
       "    .dataframe tbody tr th {\n",
       "        vertical-align: top;\n",
       "    }\n",
       "\n",
       "    .dataframe thead th {\n",
       "        text-align: right;\n",
       "    }\n",
       "</style>\n",
       "<table border=\"1\" class=\"dataframe\">\n",
       "  <thead>\n",
       "    <tr style=\"text-align: right;\">\n",
       "      <th></th>\n",
       "      <th>Language</th>\n",
       "      <th>Author</th>\n",
       "      <th>Title</th>\n",
       "      <th>Lenght</th>\n",
       "      <th>Unique</th>\n",
       "    </tr>\n",
       "  </thead>\n",
       "  <tbody>\n",
       "    <tr>\n",
       "      <th>1</th>\n",
       "      <td>French</td>\n",
       "      <td>De maupassant</td>\n",
       "      <td>Œuvres complètes de Guy de Maupassant</td>\n",
       "      <td>54772</td>\n",
       "      <td>15028</td>\n",
       "    </tr>\n",
       "    <tr>\n",
       "      <th>2</th>\n",
       "      <td>French</td>\n",
       "      <td>De maupassant</td>\n",
       "      <td>Contes de la Becasse</td>\n",
       "      <td>34723</td>\n",
       "      <td>10210</td>\n",
       "    </tr>\n",
       "    <tr>\n",
       "      <th>3</th>\n",
       "      <td>French</td>\n",
       "      <td>De maupassant</td>\n",
       "      <td>L'inutile beautÇ</td>\n",
       "      <td>37840</td>\n",
       "      <td>10781</td>\n",
       "    </tr>\n",
       "    <tr>\n",
       "      <th>4</th>\n",
       "      <td>French</td>\n",
       "      <td>De maupassant</td>\n",
       "      <td>La Main Gauche</td>\n",
       "      <td>33481</td>\n",
       "      <td>9983</td>\n",
       "    </tr>\n",
       "    <tr>\n",
       "      <th>5</th>\n",
       "      <td>French</td>\n",
       "      <td>De maupassant</td>\n",
       "      <td>Claire de Lune</td>\n",
       "      <td>25975</td>\n",
       "      <td>8076</td>\n",
       "    </tr>\n",
       "    <tr>\n",
       "      <th>...</th>\n",
       "      <td>...</td>\n",
       "      <td>...</td>\n",
       "      <td>...</td>\n",
       "      <td>...</td>\n",
       "      <td>...</td>\n",
       "    </tr>\n",
       "    <tr>\n",
       "      <th>98</th>\n",
       "      <td>German</td>\n",
       "      <td>Schiller</td>\n",
       "      <td>Wallensteins Lager</td>\n",
       "      <td>15443</td>\n",
       "      <td>4379</td>\n",
       "    </tr>\n",
       "    <tr>\n",
       "      <th>99</th>\n",
       "      <td>German</td>\n",
       "      <td>Schiller</td>\n",
       "      <td>Die Jungfrau von Orleans</td>\n",
       "      <td>24181</td>\n",
       "      <td>8806</td>\n",
       "    </tr>\n",
       "    <tr>\n",
       "      <th>100</th>\n",
       "      <td>German</td>\n",
       "      <td>Schiller</td>\n",
       "      <td>Die Verschwîrung des Fiesco zu Genua</td>\n",
       "      <td>31128</td>\n",
       "      <td>10371</td>\n",
       "    </tr>\n",
       "    <tr>\n",
       "      <th>101</th>\n",
       "      <td>German</td>\n",
       "      <td>Schiller</td>\n",
       "      <td>Der Parasit, oder die Kunst, sein GlÅck zu machen</td>\n",
       "      <td>20450</td>\n",
       "      <td>6159</td>\n",
       "    </tr>\n",
       "    <tr>\n",
       "      <th>102</th>\n",
       "      <td>German</td>\n",
       "      <td>Schiller</td>\n",
       "      <td>Turandot, Prinzessin von China</td>\n",
       "      <td>21441</td>\n",
       "      <td>7550</td>\n",
       "    </tr>\n",
       "  </tbody>\n",
       "</table>\n",
       "<p>102 rows × 5 columns</p>\n",
       "</div>"
      ],
      "text/plain": [
       "    Language         Author  \\\n",
       "1     French  De maupassant   \n",
       "2     French  De maupassant   \n",
       "3     French  De maupassant   \n",
       "4     French  De maupassant   \n",
       "5     French  De maupassant   \n",
       "..       ...            ...   \n",
       "98    German       Schiller   \n",
       "99    German       Schiller   \n",
       "100   German       Schiller   \n",
       "101   German       Schiller   \n",
       "102   German       Schiller   \n",
       "\n",
       "                                                 Title  Lenght  Unique  \n",
       "1                Œuvres complètes de Guy de Maupassant   54772   15028  \n",
       "2                                 Contes de la Becasse   34723   10210  \n",
       "3                                     L'inutile beautÇ   37840   10781  \n",
       "4                                       La Main Gauche   33481    9983  \n",
       "5                                       Claire de Lune   25975    8076  \n",
       "..                                                 ...     ...     ...  \n",
       "98                                  Wallensteins Lager   15443    4379  \n",
       "99                            Die Jungfrau von Orleans   24181    8806  \n",
       "100               Die Verschwîrung des Fiesco zu Genua   31128   10371  \n",
       "101  Der Parasit, oder die Kunst, sein GlÅck zu machen   20450    6159  \n",
       "102                     Turandot, Prinzessin von China   21441    7550  \n",
       "\n",
       "[102 rows x 5 columns]"
      ]
     },
     "execution_count": 38,
     "metadata": {},
     "output_type": "execute_result"
    }
   ],
   "source": [
    "stats"
   ]
  },
  {
   "cell_type": "code",
   "execution_count": 36,
   "metadata": {},
   "outputs": [
    {
     "data": {
      "text/html": [
       "<div>\n",
       "<style scoped>\n",
       "    .dataframe tbody tr th:only-of-type {\n",
       "        vertical-align: middle;\n",
       "    }\n",
       "\n",
       "    .dataframe tbody tr th {\n",
       "        vertical-align: top;\n",
       "    }\n",
       "\n",
       "    .dataframe thead th {\n",
       "        text-align: right;\n",
       "    }\n",
       "</style>\n",
       "<table border=\"1\" class=\"dataframe\">\n",
       "  <thead>\n",
       "    <tr style=\"text-align: right;\">\n",
       "      <th></th>\n",
       "      <th>Language</th>\n",
       "      <th>Author</th>\n",
       "      <th>Title</th>\n",
       "      <th>Lenght</th>\n",
       "      <th>Unique</th>\n",
       "    </tr>\n",
       "  </thead>\n",
       "  <tbody>\n",
       "    <tr>\n",
       "      <th>98</th>\n",
       "      <td>German</td>\n",
       "      <td>schiller</td>\n",
       "      <td>Wallensteins Lager.txt</td>\n",
       "      <td>15443</td>\n",
       "      <td>4379</td>\n",
       "    </tr>\n",
       "    <tr>\n",
       "      <th>99</th>\n",
       "      <td>German</td>\n",
       "      <td>schiller</td>\n",
       "      <td>Die Jungfrau von Orleans.txt</td>\n",
       "      <td>24181</td>\n",
       "      <td>8806</td>\n",
       "    </tr>\n",
       "    <tr>\n",
       "      <th>100</th>\n",
       "      <td>German</td>\n",
       "      <td>schiller</td>\n",
       "      <td>Die Verschwîrung des Fiesco zu Genua.txt</td>\n",
       "      <td>31128</td>\n",
       "      <td>10371</td>\n",
       "    </tr>\n",
       "    <tr>\n",
       "      <th>101</th>\n",
       "      <td>German</td>\n",
       "      <td>schiller</td>\n",
       "      <td>Der Parasit, oder die Kunst, sein GlÅck zu mac...</td>\n",
       "      <td>20450</td>\n",
       "      <td>6159</td>\n",
       "    </tr>\n",
       "    <tr>\n",
       "      <th>102</th>\n",
       "      <td>German</td>\n",
       "      <td>schiller</td>\n",
       "      <td>Turandot, Prinzessin von China.txt</td>\n",
       "      <td>21441</td>\n",
       "      <td>7550</td>\n",
       "    </tr>\n",
       "  </tbody>\n",
       "</table>\n",
       "</div>"
      ],
      "text/plain": [
       "    Language    Author                                              Title  \\\n",
       "98    German  schiller                             Wallensteins Lager.txt   \n",
       "99    German  schiller                       Die Jungfrau von Orleans.txt   \n",
       "100   German  schiller           Die Verschwîrung des Fiesco zu Genua.txt   \n",
       "101   German  schiller  Der Parasit, oder die Kunst, sein GlÅck zu mac...   \n",
       "102   German  schiller                 Turandot, Prinzessin von China.txt   \n",
       "\n",
       "     Lenght  Unique  \n",
       "98    15443    4379  \n",
       "99    24181    8806  \n",
       "100   31128   10371  \n",
       "101   20450    6159  \n",
       "102   21441    7550  "
      ]
     },
     "execution_count": 36,
     "metadata": {},
     "output_type": "execute_result"
    }
   ],
   "source": [
    "stats.head()\n",
    "stats.tail()"
   ]
  },
  {
   "cell_type": "markdown",
   "metadata": {},
   "source": [
    "## Plotting Book Statistics"
   ]
  },
  {
   "cell_type": "code",
   "execution_count": 49,
   "metadata": {},
   "outputs": [
    {
     "data": {
      "text/plain": [
       "1      54772\n",
       "2      34723\n",
       "3      37840\n",
       "4      33481\n",
       "5      25975\n",
       "       ...  \n",
       "98     15443\n",
       "99     24181\n",
       "100    31128\n",
       "101    20450\n",
       "102    21441\n",
       "Name: Lenght, Length: 102, dtype: int64"
      ]
     },
     "execution_count": 49,
     "metadata": {},
     "output_type": "execute_result"
    }
   ],
   "source": [
    "stats.Lenght"
   ]
  },
  {
   "cell_type": "code",
   "execution_count": 61,
   "metadata": {},
   "outputs": [
    {
     "data": {
      "text/plain": [
       "[<matplotlib.lines.Line2D at 0x7f26ccde6590>]"
      ]
     },
     "execution_count": 61,
     "metadata": {},
     "output_type": "execute_result"
    },
    {
     "data": {
      "image/png": "[encoded data removed]",
      "text/plain": [
       "<Figure size 432x288 with 1 Axes>"
      ]
     },
     "metadata": {
      "needs_background": "light"
     },
     "output_type": "display_data"
    }
   ],
   "source": [
    "import matplotlib.pyplot as plt\n",
    "plt.plot(stats[\"Lenght\"], stats.Unique, \"bo\")"
   ]
  },
  {
   "cell_type": "code",
   "execution_count": 54,
   "metadata": {},
   "outputs": [
    {
     "data": {
      "text/plain": [
       "[<matplotlib.lines.Line2D at 0x7f26cd4caa70>]"
      ]
     },
     "execution_count": 54,
     "metadata": {},
     "output_type": "execute_result"
    },
    {
     "data": {
      "image/png": "[encoded data removed]",
      "text/plain": [
       "<Figure size 432x288 with 1 Axes>"
      ]
     },
     "metadata": {
      "needs_background": "light"
     },
     "output_type": "display_data"
    }
   ],
   "source": [
    "plt.loglog(stats.Lenght, stats.Unique, \"bo\")\n"
   ]
  },
  {
   "cell_type": "code",
   "execution_count": 58,
   "metadata": {},
   "outputs": [
    {
     "data": {
      "text/html": [
       "<div>\n",
       "<style scoped>\n",
       "    .dataframe tbody tr th:only-of-type {\n",
       "        vertical-align: middle;\n",
       "    }\n",
       "\n",
       "    .dataframe tbody tr th {\n",
       "        vertical-align: top;\n",
       "    }\n",
       "\n",
       "    .dataframe thead th {\n",
       "        text-align: right;\n",
       "    }\n",
       "</style>\n",
       "<table border=\"1\" class=\"dataframe\">\n",
       "  <thead>\n",
       "    <tr style=\"text-align: right;\">\n",
       "      <th></th>\n",
       "      <th>Language</th>\n",
       "      <th>Author</th>\n",
       "      <th>Title</th>\n",
       "      <th>Lenght</th>\n",
       "      <th>Unique</th>\n",
       "    </tr>\n",
       "  </thead>\n",
       "  <tbody>\n",
       "    <tr>\n",
       "      <th>62</th>\n",
       "      <td>English</td>\n",
       "      <td>Shakespeare</td>\n",
       "      <td>Othello</td>\n",
       "      <td>26590</td>\n",
       "      <td>5898</td>\n",
       "    </tr>\n",
       "    <tr>\n",
       "      <th>63</th>\n",
       "      <td>English</td>\n",
       "      <td>Shakespeare</td>\n",
       "      <td>Hamlet</td>\n",
       "      <td>28551</td>\n",
       "      <td>6776</td>\n",
       "    </tr>\n",
       "    <tr>\n",
       "      <th>64</th>\n",
       "      <td>English</td>\n",
       "      <td>Shakespeare</td>\n",
       "      <td>The Merchant of Venice</td>\n",
       "      <td>20949</td>\n",
       "      <td>4978</td>\n",
       "    </tr>\n",
       "    <tr>\n",
       "      <th>65</th>\n",
       "      <td>English</td>\n",
       "      <td>Shakespeare</td>\n",
       "      <td>Romeo and Juliet</td>\n",
       "      <td>40776</td>\n",
       "      <td>5118</td>\n",
       "    </tr>\n",
       "    <tr>\n",
       "      <th>66</th>\n",
       "      <td>English</td>\n",
       "      <td>Shakespeare</td>\n",
       "      <td>Richard III</td>\n",
       "      <td>48315</td>\n",
       "      <td>5449</td>\n",
       "    </tr>\n",
       "    <tr>\n",
       "      <th>67</th>\n",
       "      <td>English</td>\n",
       "      <td>Shakespeare</td>\n",
       "      <td>Macbeth</td>\n",
       "      <td>16874</td>\n",
       "      <td>4780</td>\n",
       "    </tr>\n",
       "    <tr>\n",
       "      <th>68</th>\n",
       "      <td>English</td>\n",
       "      <td>Shakespeare</td>\n",
       "      <td>A Midsummer Night's Dream</td>\n",
       "      <td>16103</td>\n",
       "      <td>4345</td>\n",
       "    </tr>\n",
       "  </tbody>\n",
       "</table>\n",
       "</div>"
      ],
      "text/plain": [
       "   Language       Author                      Title  Lenght  Unique\n",
       "62  English  Shakespeare                    Othello   26590    5898\n",
       "63  English  Shakespeare                     Hamlet   28551    6776\n",
       "64  English  Shakespeare     The Merchant of Venice   20949    4978\n",
       "65  English  Shakespeare           Romeo and Juliet   40776    5118\n",
       "66  English  Shakespeare                Richard III   48315    5449\n",
       "67  English  Shakespeare                    Macbeth   16874    4780\n",
       "68  English  Shakespeare  A Midsummer Night's Dream   16103    4345"
      ]
     },
     "execution_count": 58,
     "metadata": {},
     "output_type": "execute_result"
    }
   ],
   "source": [
    "stats[stats.Language==\"English\"]"
   ]
  },
  {
   "cell_type": "code",
   "execution_count": 59,
   "metadata": {},
   "outputs": [
    {
     "data": {
      "image/png": "[encoded data removed]",
      "text/plain": [
       "<Figure size 720x720 with 1 Axes>"
      ]
     },
     "metadata": {
      "needs_background": "light"
     },
     "output_type": "display_data"
    }
   ],
   "source": [
    "plt.figure(figsize = (10,10))\n",
    "subset = stats[stats.Language==\"English\"]\n",
    "plt.loglog(subset.Lenght,subset.Unique, \"o\", label=\"English\", color=\"crimson\")\n",
    "\n",
    "subset = stats[stats.Language==\"French\"]\n",
    "plt.loglog(subset.Lenght,subset.Unique, \"o\", label=\"French\", color=\"forestgreen\")\n",
    "\n",
    "subset = stats[stats.Language==\"German\"]\n",
    "plt.loglog(subset.Lenght,subset.Unique, \"o\", label=\"German\", color=\"orange\")\n",
    "\n",
    "subset = stats[stats.Language==\"Portuguese\"]\n",
    "plt.loglog(subset.Lenght,subset.Unique, \"o\", label=\"Portuguese\", color=\"blueviolet\")\n",
    "\n",
    "plt.legend()\n",
    "plt.xlabel(\"Book lenght\")\n",
    "plt.ylabel(\"Number of unique words\")\n",
    "plt.savefig(\"lang_plot.pdf\")"
   ]
  },
  {
   "cell_type": "code",
   "execution_count": null,
   "metadata": {},
   "outputs": [],
   "source": []
  }
 ],
 "metadata": {
  "interpreter": {
   "hash": "c91182f7e3e160abf08396fb207ff6e0fa48b4bb99b76fdaa25f21a0527491ca"
  },
  "kernelspec": {
   "display_name": "Python 3.10.0 ('py310')",
   "language": "python",
   "name": "python3"
  },
  "language_info": {
   "codemirror_mode": {
    "name": "ipython",
    "version": 3
   },
   "file_extension": ".py",
   "mimetype": "text/x-python",
   "name": "python",
   "nbconvert_exporter": "python",
   "pygments_lexer": "ipython3",
   "version": "3.10.0"
  },
  "orig_nbformat": 4
 },
 "nbformat": 4,
 "nbformat_minor": 2
}
